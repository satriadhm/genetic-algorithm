{
  "nbformat": 4,
  "nbformat_minor": 0,
  "metadata": {
    "colab": {
      "provenance": [],
      "include_colab_link": true
    },
    "kernelspec": {
      "name": "python3",
      "display_name": "Python 3"
    },
    "language_info": {
      "name": "python"
    }
  },
  "cells": [
    {
      "cell_type": "markdown",
      "metadata": {
        "id": "view-in-github",
        "colab_type": "text"
      },
      "source": [
        "<a href=\"https://colab.research.google.com/github/satriadhm/genetic-algorithm-implementation/blob/master/GeneticAlgorithm.ipynb\" target=\"_parent\"><img src=\"https://colab.research.google.com/assets/colab-badge.svg\" alt=\"Open In Colab\"/></a>"
      ]
    },
    {
      "cell_type": "code",
      "execution_count": 1,
      "metadata": {
        "id": "ymbib7rRw5PY"
      },
      "outputs": [],
      "source": [
        "import random\n",
        "from math import sin,cos,sqrt,exp\n"
      ]
    },
    {
      "cell_type": "code",
      "source": [
        "x1_batas = [-10,10]\n",
        "x2_batas = [-10,10]"
      ],
      "metadata": {
        "id": "zgJ56g7uw85F"
      },
      "execution_count": 2,
      "outputs": []
    },
    {
      "cell_type": "code",
      "source": [
        "#Create the population and the cromosome\n",
        "def generate_population(jumlah_individu, panjang_individu):\n",
        "    return [[random.randint(0,9) for i in range(panjang_individu)] for j in range(jumlah_individu)]\n",
        "\n",
        "# Generate the population\n",
        "jumlah_individu = 20  # Replace with your desired number of individuals\n",
        "panjang_individu = 6  # Replace with the length of each individual's chromosome\n",
        "population = generate_population(jumlah_individu, panjang_individu)\n",
        "\n",
        "# Display the population\n",
        "for individual in population:\n",
        "    print(individual)\n"
      ],
      "metadata": {
        "id": "e4LEQmYFw_Lr",
        "colab": {
          "base_uri": "https://localhost:8080/"
        },
        "outputId": "599fe3f4-c0c7-4401-ee03-221f2ee8dca2"
      },
      "execution_count": 3,
      "outputs": [
        {
          "output_type": "stream",
          "name": "stdout",
          "text": [
            "[1, 6, 8, 7, 2, 0]\n",
            "[8, 0, 0, 5, 1, 9]\n",
            "[1, 2, 5, 5, 1, 9]\n",
            "[1, 5, 1, 6, 1, 3]\n",
            "[0, 0, 6, 3, 8, 5]\n",
            "[5, 1, 2, 7, 2, 9]\n",
            "[1, 2, 9, 7, 3, 4]\n",
            "[3, 7, 6, 2, 8, 6]\n",
            "[7, 5, 3, 3, 8, 7]\n",
            "[9, 7, 1, 4, 3, 2]\n",
            "[4, 6, 1, 1, 9, 4]\n",
            "[0, 3, 2, 5, 1, 4]\n",
            "[4, 2, 2, 9, 5, 7]\n",
            "[6, 6, 5, 1, 2, 0]\n",
            "[9, 2, 2, 2, 2, 0]\n",
            "[3, 2, 9, 1, 9, 6]\n",
            "[5, 5, 1, 9, 1, 1]\n",
            "[2, 7, 8, 3, 3, 1]\n",
            "[9, 0, 9, 1, 2, 7]\n",
            "[0, 0, 4, 9, 0, 9]\n"
          ]
        }
      ]
    },
    {
      "cell_type": "code",
      "source": [
        "#Split cromosome into two part\n",
        "def split_cromosome(kromosom):\n",
        "    return kromosom[:len(kromosom)//2], kromosom[len(kromosom)//2:]\n"
      ],
      "metadata": {
        "id": "22T-dXko1G2O"
      },
      "execution_count": 4,
      "outputs": []
    },
    {
      "cell_type": "code",
      "source": [
        "#decode cromosome\n",
        "def decode(cromosome, batas):\n",
        "   kali, pembagi = 0, 0\n",
        "   for i in range(len(cromosome)) :\n",
        "        num = cromosome[i]\n",
        "        kali += num * (10**-(i+1))\n",
        "        pembagi += 9 * (10**-(i+1))\n",
        "\n",
        "   return batas[0] + (((batas[1] - batas[0]) / pembagi) * kali)\n",
        "\n",
        "# Display the population and split chromosomes\n",
        "for individual in population:\n",
        "    print(\"Original Chromosome:\", individual)\n",
        "\n",
        "    kromosom_a, kromosom_b = split_cromosome(individual)\n",
        "\n",
        "    print(\"Split Chromosome A:\", kromosom_a)\n",
        "    print(\"Split Chromosome B:\", kromosom_b)\n",
        "\n",
        "    decoded_x1 = decode(kromosom_a, x1_batas)\n",
        "    decoded_x2 = decode(kromosom_b, x2_batas)\n",
        "\n",
        "    print(\"Decoded x1:\", decoded_x1)\n",
        "    print(\"Decoded x2:\", decoded_x2)\n",
        "    print()"
      ],
      "metadata": {
        "id": "e-Tri_zAwJYo",
        "colab": {
          "base_uri": "https://localhost:8080/"
        },
        "outputId": "e52ce4b7-f832-47eb-b87d-3cfdb5847cab"
      },
      "execution_count": 6,
      "outputs": [
        {
          "output_type": "stream",
          "name": "stdout",
          "text": [
            "Original Chromosome: [1, 6, 8, 7, 2, 0]\n",
            "Split Chromosome A: [1, 6, 8]\n",
            "Split Chromosome B: [7, 2, 0]\n",
            "Decoded x1: -6.636636636636636\n",
            "Decoded x2: 4.414414414414416\n",
            "\n",
            "Original Chromosome: [8, 0, 0, 5, 1, 9]\n",
            "Split Chromosome A: [8, 0, 0]\n",
            "Split Chromosome B: [5, 1, 9]\n",
            "Decoded x1: 6.016016016016017\n",
            "Decoded x2: 0.39039039039039025\n",
            "\n",
            "Original Chromosome: [1, 2, 5, 5, 1, 9]\n",
            "Split Chromosome A: [1, 2, 5]\n",
            "Split Chromosome B: [5, 1, 9]\n",
            "Decoded x1: -7.4974974974974975\n",
            "Decoded x2: 0.39039039039039025\n",
            "\n",
            "Original Chromosome: [1, 5, 1, 6, 1, 3]\n",
            "Split Chromosome A: [1, 5, 1]\n",
            "Split Chromosome B: [6, 1, 3]\n",
            "Decoded x1: -6.976976976976976\n",
            "Decoded x2: 2.272272272272275\n",
            "\n",
            "Original Chromosome: [0, 0, 6, 3, 8, 5]\n",
            "Split Chromosome A: [0, 0, 6]\n",
            "Split Chromosome B: [3, 8, 5]\n",
            "Decoded x1: -9.87987987987988\n",
            "Decoded x2: -2.2922922922922906\n",
            "\n",
            "Original Chromosome: [5, 1, 2, 7, 2, 9]\n",
            "Split Chromosome A: [5, 1, 2]\n",
            "Split Chromosome B: [7, 2, 9]\n",
            "Decoded x1: 0.25025025025025016\n",
            "Decoded x2: 4.5945945945945965\n",
            "\n",
            "Original Chromosome: [1, 2, 9, 7, 3, 4]\n",
            "Split Chromosome A: [1, 2, 9]\n",
            "Split Chromosome B: [7, 3, 4]\n",
            "Decoded x1: -7.4174174174174174\n",
            "Decoded x2: 4.694694694694697\n",
            "\n",
            "Original Chromosome: [3, 7, 6, 2, 8, 6]\n",
            "Split Chromosome A: [3, 7, 6]\n",
            "Split Chromosome B: [2, 8, 6]\n",
            "Decoded x1: -2.4724724724724716\n",
            "Decoded x2: -4.274274274274274\n",
            "\n",
            "Original Chromosome: [7, 5, 3, 3, 8, 7]\n",
            "Split Chromosome A: [7, 5, 3]\n",
            "Split Chromosome B: [3, 8, 7]\n",
            "Decoded x1: 5.075075075075077\n",
            "Decoded x2: -2.2522522522522506\n",
            "\n",
            "Original Chromosome: [9, 7, 1, 4, 3, 2]\n",
            "Split Chromosome A: [9, 7, 1]\n",
            "Split Chromosome B: [4, 3, 2]\n",
            "Decoded x1: 9.43943943943944\n",
            "Decoded x2: -1.3513513513513509\n",
            "\n",
            "Original Chromosome: [4, 6, 1, 1, 9, 4]\n",
            "Split Chromosome A: [4, 6, 1]\n",
            "Split Chromosome B: [1, 9, 4]\n",
            "Decoded x1: -0.7707707707707705\n",
            "Decoded x2: -6.116116116116116\n",
            "\n",
            "Original Chromosome: [0, 3, 2, 5, 1, 4]\n",
            "Split Chromosome A: [0, 3, 2]\n",
            "Split Chromosome B: [5, 1, 4]\n",
            "Decoded x1: -9.35935935935936\n",
            "Decoded x2: 0.2902902902902902\n",
            "\n",
            "Original Chromosome: [4, 2, 2, 9, 5, 7]\n",
            "Split Chromosome A: [4, 2, 2]\n",
            "Split Chromosome B: [9, 5, 7]\n",
            "Decoded x1: -1.551551551551551\n",
            "Decoded x2: 9.15915915915916\n",
            "\n",
            "Original Chromosome: [6, 6, 5, 1, 2, 0]\n",
            "Split Chromosome A: [6, 6, 5]\n",
            "Split Chromosome B: [1, 2, 0]\n",
            "Decoded x1: 3.3133133133133157\n",
            "Decoded x2: -7.597597597597598\n",
            "\n",
            "Original Chromosome: [9, 2, 2, 2, 2, 0]\n",
            "Split Chromosome A: [9, 2, 2]\n",
            "Split Chromosome B: [2, 2, 0]\n",
            "Decoded x1: 8.458458458458459\n",
            "Decoded x2: -5.595595595595595\n",
            "\n",
            "Original Chromosome: [3, 2, 9, 1, 9, 6]\n",
            "Split Chromosome A: [3, 2, 9]\n",
            "Split Chromosome B: [1, 9, 6]\n",
            "Decoded x1: -3.413413413413412\n",
            "Decoded x2: -6.076076076076076\n",
            "\n",
            "Original Chromosome: [5, 5, 1, 9, 1, 1]\n",
            "Split Chromosome A: [5, 5, 1]\n",
            "Split Chromosome B: [9, 1, 1]\n",
            "Decoded x1: 1.0310310310310324\n",
            "Decoded x2: 8.238238238238239\n",
            "\n",
            "Original Chromosome: [2, 7, 8, 3, 3, 1]\n",
            "Split Chromosome A: [2, 7, 8]\n",
            "Split Chromosome B: [3, 3, 1]\n",
            "Decoded x1: -4.434434434434434\n",
            "Decoded x2: -3.373373373373372\n",
            "\n",
            "Original Chromosome: [9, 0, 9, 1, 2, 7]\n",
            "Split Chromosome A: [9, 0, 9]\n",
            "Split Chromosome B: [1, 2, 7]\n",
            "Decoded x1: 8.198198198198199\n",
            "Decoded x2: -7.4574574574574575\n",
            "\n",
            "Original Chromosome: [0, 0, 4, 9, 0, 9]\n",
            "Split Chromosome A: [0, 0, 4]\n",
            "Split Chromosome B: [9, 0, 9]\n",
            "Decoded x1: -9.91991991991992\n",
            "Decoded x2: 8.198198198198199\n",
            "\n"
          ]
        }
      ]
    },
    {
      "cell_type": "code",
      "source": [
        "#rumus yang akan dicari nilai minimumnya\n",
        "def function(x,y):\n",
        "    return (sin(x)*cos(y)+0.8*exp(1-sqrt(x**2+y**2))) * -1"
      ],
      "metadata": {
        "id": "dX8uOIKh6HRf"
      },
      "execution_count": 8,
      "outputs": []
    },
    {
      "cell_type": "code",
      "source": [
        "\n",
        "# Display the population and split chromosomes\n",
        "for individual in population:\n",
        "    print(\"Original Chromosome:\", individual)\n",
        "\n",
        "    kromosom_a, kromosom_b = split_cromosome(individual)\n",
        "\n",
        "    print(\"Split Chromosome A:\", kromosom_a)\n",
        "    print(\"Split Chromosome B:\", kromosom_b)\n",
        "\n",
        "    decoded_x1 = decode(kromosom_a, x1_batas)\n",
        "    decoded_x2 = decode(kromosom_b, x2_batas)\n",
        "\n",
        "    print(\"Decoded x1:\", decoded_x1)\n",
        "    print(\"Decoded x2:\", decoded_x2)\n",
        "\n",
        "    objective_function_value = function(decoded_x1, decoded_x2)\n",
        "    print(\"Objective Function : \", objective_function_value)\n",
        "\n",
        "    fitness_value = 1 / (function(decoded_x1, decoded_x2)+0.0001)\n",
        "    print(\"Fitness Value : \", fitness_value)\n",
        "\n",
        "\n",
        "    print()"
      ],
      "metadata": {
        "id": "NhlvSMYR8Emj",
        "colab": {
          "base_uri": "https://localhost:8080/"
        },
        "outputId": "9fc7672f-d197-4958-91d1-5fd38c784163"
      },
      "execution_count": 9,
      "outputs": [
        {
          "output_type": "stream",
          "name": "stdout",
          "text": [
            "Original Chromosome: [1, 6, 8, 7, 2, 0]\n",
            "Split Chromosome A: [1, 6, 8]\n",
            "Split Chromosome B: [7, 2, 0]\n",
            "Decoded x1: -6.636636636636636\n",
            "Decoded x2: 4.414414414414416\n",
            "Objective Function :  -0.10237195001834956\n",
            "Fitness Value :  -9.777852087699323\n",
            "\n",
            "Original Chromosome: [8, 0, 0, 5, 1, 9]\n",
            "Split Chromosome A: [8, 0, 0]\n",
            "Split Chromosome B: [5, 1, 9]\n",
            "Decoded x1: 6.016016016016017\n",
            "Decoded x2: 0.39039039039039025\n",
            "Objective Function :  0.2389008257900439\n",
            "Fitness Value :  4.184085961604477\n",
            "\n",
            "Original Chromosome: [1, 2, 5, 5, 1, 9]\n",
            "Split Chromosome A: [1, 2, 5]\n",
            "Split Chromosome B: [5, 1, 9]\n",
            "Decoded x1: -7.4974974974974975\n",
            "Decoded x2: 0.39039039039039025\n",
            "Objective Function :  0.8654269063933252\n",
            "Fitness Value :  1.1553655843779922\n",
            "\n",
            "Original Chromosome: [1, 5, 1, 6, 1, 3]\n",
            "Split Chromosome A: [1, 5, 1]\n",
            "Split Chromosome B: [6, 1, 3]\n",
            "Decoded x1: -6.976976976976976\n",
            "Decoded x2: 2.272272272272275\n",
            "Objective Function :  -0.4140855948845378\n",
            "Fitness Value :  -2.4155429859314403\n",
            "\n",
            "Original Chromosome: [0, 0, 6, 3, 8, 5]\n",
            "Split Chromosome A: [0, 0, 6]\n",
            "Split Chromosome B: [3, 8, 5]\n",
            "Decoded x1: -9.87987987987988\n",
            "Decoded x2: -2.2922922922922906\n",
            "Objective Function :  0.29024347862999117\n",
            "Fitness Value :  3.4441965244701884\n",
            "\n",
            "Original Chromosome: [5, 1, 2, 7, 2, 9]\n",
            "Split Chromosome A: [5, 1, 2]\n",
            "Split Chromosome B: [7, 2, 9]\n",
            "Decoded x1: 0.25025025025025016\n",
            "Decoded x2: 4.5945945945945965\n",
            "Objective Function :  0.007275648208332739\n",
            "Fitness Value :  135.58130373819026\n",
            "\n",
            "Original Chromosome: [1, 2, 9, 7, 3, 4]\n",
            "Split Chromosome A: [1, 2, 9]\n",
            "Split Chromosome B: [7, 3, 4]\n",
            "Decoded x1: -7.4174174174174174\n",
            "Decoded x2: 4.694694694694697\n",
            "Objective Function :  -0.01636888228009517\n",
            "Fitness Value :  -61.46703767249523\n",
            "\n",
            "Original Chromosome: [3, 7, 6, 2, 8, 6]\n",
            "Split Chromosome A: [3, 7, 6]\n",
            "Split Chromosome B: [2, 8, 6]\n",
            "Decoded x1: -2.4724724724724716\n",
            "Decoded x2: -4.274274274274274\n",
            "Objective Function :  -0.27874185536588714\n",
            "Fitness Value :  -3.588836281207254\n",
            "\n",
            "Original Chromosome: [7, 5, 3, 3, 8, 7]\n",
            "Split Chromosome A: [7, 5, 3]\n",
            "Split Chromosome B: [3, 8, 7]\n",
            "Decoded x1: 5.075075075075077\n",
            "Decoded x2: -2.2522522522522506\n",
            "Objective Function :  -0.5973796891242521\n",
            "Fitness Value :  -1.67425750148348\n",
            "\n",
            "Original Chromosome: [9, 7, 1, 4, 3, 2]\n",
            "Split Chromosome A: [9, 7, 1]\n",
            "Split Chromosome B: [4, 3, 2]\n",
            "Decoded x1: 9.43943943943944\n",
            "Decoded x2: -1.3513513513513509\n",
            "Objective Function :  0.003034443286140391\n",
            "Fitness Value :  319.03592080345277\n",
            "\n",
            "Original Chromosome: [4, 6, 1, 1, 9, 4]\n",
            "Split Chromosome A: [4, 6, 1]\n",
            "Split Chromosome B: [1, 9, 4]\n",
            "Decoded x1: -0.7707707707707705\n",
            "Decoded x2: -6.116116116116116\n",
            "Objective Function :  0.682415176467899\n",
            "Fitness Value :  1.465168884851945\n",
            "\n",
            "Original Chromosome: [0, 3, 2, 5, 1, 4]\n",
            "Split Chromosome A: [0, 3, 2]\n",
            "Split Chromosome B: [5, 1, 4]\n",
            "Decoded x1: -9.35935935935936\n",
            "Decoded x2: 0.2902902902902902\n",
            "Objective Function :  0.06245032803088795\n",
            "Fitness Value :  15.987126390547312\n",
            "\n",
            "Original Chromosome: [4, 2, 2, 9, 5, 7]\n",
            "Split Chromosome A: [4, 2, 2]\n",
            "Split Chromosome B: [9, 5, 7]\n",
            "Decoded x1: -1.551551551551551\n",
            "Decoded x2: 9.15915915915916\n",
            "Objective Function :  -0.9649524481316043\n",
            "Fitness Value :  -1.0364279034959776\n",
            "\n",
            "Original Chromosome: [6, 6, 5, 1, 2, 0]\n",
            "Split Chromosome A: [6, 6, 5]\n",
            "Split Chromosome B: [1, 2, 0]\n",
            "Decoded x1: 3.3133133133133157\n",
            "Decoded x2: -7.597597597597598\n",
            "Objective Function :  0.04278538562072643\n",
            "Fitness Value :  23.317966844087366\n",
            "\n",
            "Original Chromosome: [9, 2, 2, 2, 2, 0]\n",
            "Split Chromosome A: [9, 2, 2]\n",
            "Split Chromosome B: [2, 2, 0]\n",
            "Decoded x1: 8.458458458458459\n",
            "Decoded x2: -5.595595595595595\n",
            "Objective Function :  -0.6359270731633034\n",
            "Fitness Value :  -1.5727546721546468\n",
            "\n",
            "Original Chromosome: [3, 2, 9, 1, 9, 6]\n",
            "Split Chromosome A: [3, 2, 9]\n",
            "Split Chromosome B: [1, 9, 6]\n",
            "Decoded x1: -3.413413413413412\n",
            "Decoded x2: -6.076076076076076\n",
            "Objective Function :  -0.26479307458128903\n",
            "Fitness Value :  -3.77796057407952\n",
            "\n",
            "Original Chromosome: [5, 5, 1, 9, 1, 1]\n",
            "Split Chromosome A: [5, 5, 1]\n",
            "Split Chromosome B: [9, 1, 1]\n",
            "Decoded x1: 1.0310310310310324\n",
            "Decoded x2: 8.238238238238239\n",
            "Objective Function :  0.3210354484868414\n",
            "Fitness Value :  3.1139508413409405\n",
            "\n",
            "Original Chromosome: [2, 7, 8, 3, 3, 1]\n",
            "Split Chromosome A: [2, 7, 8]\n",
            "Split Chromosome B: [3, 3, 1]\n",
            "Decoded x1: -4.434434434434434\n",
            "Decoded x2: -3.373373373373372\n",
            "Objective Function :  0.9276316650871606\n",
            "Fitness Value :  1.0778978853826766\n",
            "\n",
            "Original Chromosome: [9, 0, 9, 1, 2, 7]\n",
            "Split Chromosome A: [9, 0, 9]\n",
            "Split Chromosome B: [1, 2, 7]\n",
            "Decoded x1: 8.198198198198199\n",
            "Decoded x2: -7.4574574574574575\n",
            "Objective Function :  -0.3635926917546802\n",
            "Fitness Value :  -2.7510869480558804\n",
            "\n",
            "Original Chromosome: [0, 0, 4, 9, 0, 9]\n",
            "Split Chromosome A: [0, 0, 4]\n",
            "Split Chromosome B: [9, 0, 9]\n",
            "Decoded x1: -9.91991991991992\n",
            "Decoded x2: 8.198198198198199\n",
            "Objective Function :  0.16034040035987485\n",
            "Fitness Value :  6.2328440826435\n",
            "\n"
          ]
        }
      ]
    },
    {
      "cell_type": "code",
      "source": [
        "# Fungsi untuk menentukan kromosom terbaik\n",
        "def best_kromosom_selection(population):\n",
        "    min_fitness = 999\n",
        "    min_kromosom = []\n",
        "\n",
        "    for kromosom in population:\n",
        "        kromosom_a, kromosom_b = split_cromosome(kromosom)\n",
        "        x1 = decode(kromosom_a, x1_batas)\n",
        "        x2 = decode(kromosom_b, x2_batas)\n",
        "        fitness = function(x1, x2)\n",
        "\n",
        "        if  min_fitness > fitness:\n",
        "            min_fitness = fitness\n",
        "            min_kromosom = kromosom\n",
        "\n",
        "    return min_kromosom, min_fitness, x1, x2\n",
        "\n",
        "best_population = best_kromosom_selection(population)\n",
        "\n",
        "print(\"Best kromosom : \",best_population[0])\n",
        "print(\"Best fitness  : \" ,best_population[1])\n",
        "print(\"Best decode x1: \",best_population[2])\n",
        "print(\"Best decode x2: \",best_population[3])"
      ],
      "metadata": {
        "colab": {
          "base_uri": "https://localhost:8080/"
        },
        "id": "1U9xusyjyk4o",
        "outputId": "e9d41791-46ef-4b9f-db63-297497161aa9"
      },
      "execution_count": 10,
      "outputs": [
        {
          "output_type": "stream",
          "name": "stdout",
          "text": [
            "Best kromosom :  [4, 2, 2, 9, 5, 7]\n",
            "Best fitness  :  -0.9649524481316043\n",
            "Best decode x1:  -9.91991991991992\n",
            "Best decode x2:  8.198198198198199\n"
          ]
        }
      ]
    },
    {
      "cell_type": "code",
      "source": [
        "# function to do the parent selection process\n",
        "def parent_roulette_selection(population, fitness,fitness_total):\n",
        "  probability = random.random()\n",
        "  index_parent = 0\n",
        "  while probability > 0:\n",
        "    probability -= fitness[index_parent]/fitness_total\n",
        "    index_parent += 1\n",
        "    if index_parent == len(population) - 1:\n",
        "      break\n",
        "\n",
        "  return population[index_parent]"
      ],
      "metadata": {
        "id": "_Y9UgKCUr7fK"
      },
      "execution_count": null,
      "outputs": []
    },
    {
      "cell_type": "code",
      "source": [
        "# crossover and breed new individuals\n",
        "def crossover(orangtua1, orangtua2):\n",
        "    anak1, anak2, anakan = [], [], []\n",
        "    probability_of_crossover = random.randint(0,9)\n",
        "    if probability_of_crossover < 0.9:\n",
        "       anak1[:1], anak1[1:] = orangtua1[:1], orangtua2[1:]\n",
        "       anak2[:1], anak2[1:] = orangtua2[:1], orangtua1[1:]\n",
        "       anakan.append(anak1)\n",
        "       anakan.append(anak2)\n",
        "    else:\n",
        "        anakan.append(orangtua1)\n",
        "        anakan.append(orangtua2)"
      ],
      "metadata": {
        "id": "uqu8LBc91rsi"
      },
      "execution_count": 11,
      "outputs": []
    },
    {
      "cell_type": "code",
      "source": [
        "# Mutation and add new individuals to the population\n",
        "def mutation(anak1, anak2):\n",
        "    for i in range(len(anak1)):\n",
        "        probability_of_mutation_for_anak1 = random.randit(0,9)\n",
        "        if probability_of_mutation_for_anak1 < 0.1:\n",
        "            anak1[i] = random.randint(0,9)\n",
        "\n",
        "        probability_of_mutation_for_anak2 = random.randit(0,9)\n",
        "        if probability_of_mutation_for_anak2 < 0.1:\n",
        "            anak2[i] = random.randint(0,9)\n",
        "\n",
        "    return anak1, anak2"
      ],
      "metadata": {
        "id": "3RBwIbrG10l9"
      },
      "execution_count": 12,
      "outputs": []
    },
    {
      "cell_type": "code",
      "source": [
        "generation = 50\n",
        "population_total = 20\n",
        "kromosom_total = 6\n",
        "\n",
        "population = generate_population(population_total, kromosom_total)\n",
        "print(\"Populasi awal:\", population)\n",
        "\n",
        "best_kromosom_generation"
      ],
      "metadata": {
        "colab": {
          "base_uri": "https://localhost:8080/"
        },
        "id": "DyId5rEXuWE0",
        "outputId": "dab56970-45d1-4194-9b5f-8991844c06bc"
      },
      "execution_count": 13,
      "outputs": [
        {
          "output_type": "stream",
          "name": "stdout",
          "text": [
            "Populasi awal: [[0, 3, 1, 8, 6, 8], [1, 7, 5, 2, 5, 8], [4, 4, 7, 5, 4, 3], [4, 5, 2, 8, 2, 0], [4, 2, 9, 4, 6, 7], [9, 8, 3, 7, 8, 2], [7, 4, 2, 9, 0, 7], [6, 0, 1, 1, 8, 5], [8, 7, 7, 0, 4, 6], [9, 9, 8, 1, 1, 6], [7, 4, 0, 2, 2, 1], [0, 7, 6, 5, 8, 4], [4, 0, 1, 2, 6, 4], [8, 6, 1, 2, 1, 5], [9, 0, 5, 3, 8, 7], [2, 4, 5, 6, 1, 4], [9, 7, 1, 4, 8, 5], [1, 9, 7, 9, 3, 6], [8, 0, 9, 4, 1, 8], [2, 7, 9, 3, 7, 0]]\n"
          ]
        }
      ]
    }
  ]
}