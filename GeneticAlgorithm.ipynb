{
  "nbformat": 4,
  "nbformat_minor": 0,
  "metadata": {
    "colab": {
      "provenance": []
    },
    "kernelspec": {
      "name": "python3",
      "display_name": "Python 3"
    },
    "language_info": {
      "name": "python"
    }
  },
  "cells": [
    {
      "cell_type": "markdown",
      "source": [
        "# Genetic Algorithm\n",
        "###### Glorious Satria Dhamang Aji | 1302213015\n",
        "###### Kevin | 1302210019\n",
        "\n",
        "Finding the best minimum value of given function using Genetic Algorithm Implementation\n",
        "\n"
      ],
      "metadata": {
        "id": "Fgzu5SXZypgj"
      }
    },
    {
      "cell_type": "code",
      "execution_count": null,
      "metadata": {
        "id": "ymbib7rRw5PY"
      },
      "outputs": [],
      "source": [
        "import random\n",
        "from math import sin,cos,sqrt,exp,radians\n"
      ]
    },
    {
      "cell_type": "code",
      "source": [
        "x1_batas = [-10,10]\n",
        "x2_batas = [-10,10]"
      ],
      "metadata": {
        "id": "zgJ56g7uw85F"
      },
      "execution_count": null,
      "outputs": []
    },
    {
      "cell_type": "code",
      "source": [
        "#Create the population and the cromosome\n",
        "def generate_population(jumlah_individu, panjang_individu):\n",
        "    return [[random.randint(0,9) for i in range(panjang_individu)] for j in range(jumlah_individu)]\n",
        "\n",
        "# Generate the population\n",
        "jumlah_individu = 20\n",
        "panjang_individu = 6\n",
        "population = generate_population(jumlah_individu, panjang_individu)\n",
        "\n",
        "# Display the population\n",
        "for individual in population:\n",
        "    print(individual)\n"
      ],
      "metadata": {
        "id": "e4LEQmYFw_Lr",
        "colab": {
          "base_uri": "https://localhost:8080/"
        },
        "outputId": "55274a86-617e-479a-c886-db7621bfde5d"
      },
      "execution_count": null,
      "outputs": [
        {
          "output_type": "stream",
          "name": "stdout",
          "text": [
            "[1, 5, 5, 2, 8, 4]\n",
            "[5, 8, 0, 1, 0, 0]\n",
            "[8, 4, 9, 9, 1, 0]\n",
            "[6, 1, 7, 4, 0, 7]\n",
            "[5, 2, 6, 3, 6, 4]\n",
            "[4, 5, 7, 0, 2, 5]\n",
            "[7, 1, 1, 4, 8, 4]\n",
            "[6, 4, 3, 9, 9, 9]\n",
            "[0, 0, 0, 4, 1, 5]\n",
            "[6, 3, 4, 7, 8, 6]\n",
            "[4, 5, 3, 4, 6, 8]\n",
            "[1, 0, 8, 5, 3, 0]\n",
            "[1, 3, 7, 6, 8, 2]\n",
            "[3, 4, 3, 2, 3, 2]\n",
            "[4, 9, 3, 8, 5, 2]\n",
            "[9, 2, 4, 4, 8, 9]\n",
            "[6, 4, 1, 9, 0, 0]\n",
            "[6, 0, 0, 1, 4, 8]\n",
            "[2, 5, 3, 6, 5, 2]\n",
            "[3, 8, 9, 1, 2, 2]\n"
          ]
        }
      ]
    },
    {
      "cell_type": "code",
      "source": [
        "#Split cromosome into two part\n",
        "def split_cromosome(kromosom):\n",
        "    return kromosom[:len(kromosom)//2], kromosom[len(kromosom)//2:]\n",
        "\n",
        "\n",
        "for individual in population:\n",
        "    print(split_cromosome(individual))"
      ],
      "metadata": {
        "id": "22T-dXko1G2O",
        "colab": {
          "base_uri": "https://localhost:8080/"
        },
        "outputId": "7dddb2d1-ce6f-47de-99a4-50ee29eac2f5"
      },
      "execution_count": null,
      "outputs": [
        {
          "output_type": "stream",
          "name": "stdout",
          "text": [
            "([1, 5, 5], [2, 8, 4])\n",
            "([5, 8, 0], [1, 0, 0])\n",
            "([8, 4, 9], [9, 1, 0])\n",
            "([6, 1, 7], [4, 0, 7])\n",
            "([5, 2, 6], [3, 6, 4])\n",
            "([4, 5, 7], [0, 2, 5])\n",
            "([7, 1, 1], [4, 8, 4])\n",
            "([6, 4, 3], [9, 9, 9])\n",
            "([0, 0, 0], [4, 1, 5])\n",
            "([6, 3, 4], [7, 8, 6])\n",
            "([4, 5, 3], [4, 6, 8])\n",
            "([1, 0, 8], [5, 3, 0])\n",
            "([1, 3, 7], [6, 8, 2])\n",
            "([3, 4, 3], [2, 3, 2])\n",
            "([4, 9, 3], [8, 5, 2])\n",
            "([9, 2, 4], [4, 8, 9])\n",
            "([6, 4, 1], [9, 0, 0])\n",
            "([6, 0, 0], [1, 4, 8])\n",
            "([2, 5, 3], [6, 5, 2])\n",
            "([3, 8, 9], [1, 2, 2])\n"
          ]
        }
      ]
    },
    {
      "cell_type": "code",
      "source": [
        "#decode cromosome\n",
        "def decode(cromosome, batas):\n",
        "   kali, pembagi = 0, 0\n",
        "   for i in range(len(cromosome)) :\n",
        "        num = cromosome[i]\n",
        "        kali += num * (10**-(i+1))\n",
        "        pembagi += 9 * (10**-(i+1))\n",
        "\n",
        "   return batas[0] + (((batas[1] - batas[0]) / pembagi) * kali)\n",
        "\n",
        "# Display the population and split chromosomes\n",
        "for individual in population:\n",
        "    print(\"Original Chromosome:\", individual)\n",
        "\n",
        "    kromosom_a, kromosom_b = split_cromosome(individual)\n",
        "\n",
        "    print(\"Split Chromosome A:\", kromosom_a)\n",
        "    print(\"Split Chromosome B:\", kromosom_b)\n",
        "\n",
        "    decoded_x1 = decode(kromosom_a, x1_batas)\n",
        "    decoded_x2 = decode(kromosom_b, x2_batas)\n",
        "\n",
        "    print(\"Decoded x1:\", decoded_x1)\n",
        "    print(\"Decoded x2:\", decoded_x2)\n",
        "    print()"
      ],
      "metadata": {
        "id": "e-Tri_zAwJYo",
        "colab": {
          "base_uri": "https://localhost:8080/"
        },
        "outputId": "17277922-42bc-4986-ca7a-8ece1f88b8c2"
      },
      "execution_count": null,
      "outputs": [
        {
          "output_type": "stream",
          "name": "stdout",
          "text": [
            "Original Chromosome: [1, 5, 5, 2, 8, 4]\n",
            "Split Chromosome A: [1, 5, 5]\n",
            "Split Chromosome B: [2, 8, 4]\n",
            "Decoded x1: -6.896896896896896\n",
            "Decoded x2: -4.314314314314314\n",
            "\n",
            "Original Chromosome: [5, 8, 0, 1, 0, 0]\n",
            "Split Chromosome A: [5, 8, 0]\n",
            "Split Chromosome B: [1, 0, 0]\n",
            "Decoded x1: 1.611611611611611\n",
            "Decoded x2: -7.997997997997998\n",
            "\n",
            "Original Chromosome: [8, 4, 9, 9, 1, 0]\n",
            "Split Chromosome A: [8, 4, 9]\n",
            "Split Chromosome B: [9, 1, 0]\n",
            "Decoded x1: 6.996996996996998\n",
            "Decoded x2: 8.218218218218219\n",
            "\n",
            "Original Chromosome: [6, 1, 7, 4, 0, 7]\n",
            "Split Chromosome A: [6, 1, 7]\n",
            "Split Chromosome B: [4, 0, 7]\n",
            "Decoded x1: 2.352352352352355\n",
            "Decoded x2: -1.8518518518518512\n",
            "\n",
            "Original Chromosome: [5, 2, 6, 3, 6, 4]\n",
            "Split Chromosome A: [5, 2, 6]\n",
            "Split Chromosome B: [3, 6, 4]\n",
            "Decoded x1: 0.5305305305305303\n",
            "Decoded x2: -2.7127127127127117\n",
            "\n",
            "Original Chromosome: [4, 5, 7, 0, 2, 5]\n",
            "Split Chromosome A: [4, 5, 7]\n",
            "Split Chromosome B: [0, 2, 5]\n",
            "Decoded x1: -0.8508508508508505\n",
            "Decoded x2: -9.4994994994995\n",
            "\n",
            "Original Chromosome: [7, 1, 1, 4, 8, 4]\n",
            "Split Chromosome A: [7, 1, 1]\n",
            "Split Chromosome B: [4, 8, 4]\n",
            "Decoded x1: 4.234234234234236\n",
            "Decoded x2: -0.3103103103103102\n",
            "\n",
            "Original Chromosome: [6, 4, 3, 9, 9, 9]\n",
            "Split Chromosome A: [6, 4, 3]\n",
            "Split Chromosome B: [9, 9, 9]\n",
            "Decoded x1: 2.8728728728728754\n",
            "Decoded x2: 10.0\n",
            "\n",
            "Original Chromosome: [0, 0, 0, 4, 1, 5]\n",
            "Split Chromosome A: [0, 0, 0]\n",
            "Split Chromosome B: [4, 1, 5]\n",
            "Decoded x1: -10.0\n",
            "Decoded x2: -1.691691691691691\n",
            "\n",
            "Original Chromosome: [6, 3, 4, 7, 8, 6]\n",
            "Split Chromosome A: [6, 3, 4]\n",
            "Split Chromosome B: [7, 8, 6]\n",
            "Decoded x1: 2.6926926926926953\n",
            "Decoded x2: 5.735735735735737\n",
            "\n",
            "Original Chromosome: [4, 5, 3, 4, 6, 8]\n",
            "Split Chromosome A: [4, 5, 3]\n",
            "Split Chromosome B: [4, 6, 8]\n",
            "Decoded x1: -0.9309309309309306\n",
            "Decoded x2: -0.6306306306306304\n",
            "\n",
            "Original Chromosome: [1, 0, 8, 5, 3, 0]\n",
            "Split Chromosome A: [1, 0, 8]\n",
            "Split Chromosome B: [5, 3, 0]\n",
            "Decoded x1: -7.837837837837838\n",
            "Decoded x2: 0.6106106106106104\n",
            "\n",
            "Original Chromosome: [1, 3, 7, 6, 8, 2]\n",
            "Split Chromosome A: [1, 3, 7]\n",
            "Split Chromosome B: [6, 8, 2]\n",
            "Decoded x1: -7.2572572572572565\n",
            "Decoded x2: 3.653653653653654\n",
            "\n",
            "Original Chromosome: [3, 4, 3, 2, 3, 2]\n",
            "Split Chromosome A: [3, 4, 3]\n",
            "Split Chromosome B: [2, 3, 2]\n",
            "Decoded x1: -3.133133133133133\n",
            "Decoded x2: -5.355355355355355\n",
            "\n",
            "Original Chromosome: [4, 9, 3, 8, 5, 2]\n",
            "Split Chromosome A: [4, 9, 3]\n",
            "Split Chromosome B: [8, 5, 2]\n",
            "Decoded x1: -0.13013013013013008\n",
            "Decoded x2: 7.057057057057058\n",
            "\n",
            "Original Chromosome: [9, 2, 4, 4, 8, 9]\n",
            "Split Chromosome A: [9, 2, 4]\n",
            "Split Chromosome B: [4, 8, 9]\n",
            "Decoded x1: 8.498498498498499\n",
            "Decoded x2: -0.21021021021021014\n",
            "\n",
            "Original Chromosome: [6, 4, 1, 9, 0, 0]\n",
            "Split Chromosome A: [6, 4, 1]\n",
            "Split Chromosome B: [9, 0, 0]\n",
            "Decoded x1: 2.8328328328328354\n",
            "Decoded x2: 8.018018018018019\n",
            "\n",
            "Original Chromosome: [6, 0, 0, 1, 4, 8]\n",
            "Split Chromosome A: [6, 0, 0]\n",
            "Split Chromosome B: [1, 4, 8]\n",
            "Decoded x1: 2.012012012012013\n",
            "Decoded x2: -7.037037037037036\n",
            "\n",
            "Original Chromosome: [2, 5, 3, 6, 5, 2]\n",
            "Split Chromosome A: [2, 5, 3]\n",
            "Split Chromosome B: [6, 5, 2]\n",
            "Decoded x1: -4.934934934934935\n",
            "Decoded x2: 3.0530530530530555\n",
            "\n",
            "Original Chromosome: [3, 8, 9, 1, 2, 2]\n",
            "Split Chromosome A: [3, 8, 9]\n",
            "Split Chromosome B: [1, 2, 2]\n",
            "Decoded x1: -2.2122122122122105\n",
            "Decoded x2: -7.5575575575575575\n",
            "\n"
          ]
        }
      ]
    },
    {
      "cell_type": "code",
      "source": [
        "#rumus yang akan dicari nilai minimumnya\n",
        "def fitness_calculation(x,y):\n",
        "    return 1 /(((sin((x))*cos((y))+0.8*exp(1-sqrt(x**2+y**2))) * -1) + 0.0001)\n"
      ],
      "metadata": {
        "id": "dX8uOIKh6HRf"
      },
      "execution_count": null,
      "outputs": []
    },
    {
      "cell_type": "code",
      "source": [
        "\n",
        "# Display the population and split chromosomes\n",
        "for individual in population:\n",
        "    print(\"Original Chromosome:\", individual)\n",
        "\n",
        "    kromosom_a, kromosom_b = split_cromosome(individual)\n",
        "\n",
        "    print(\"Split Chromosome A:\", kromosom_a)\n",
        "    print(\"Split Chromosome B:\", kromosom_b)\n",
        "\n",
        "    decoded_x1 = decode(kromosom_a, x1_batas)\n",
        "    decoded_x2 = decode(kromosom_b, x2_batas)\n",
        "\n",
        "    print(\"Decoded x1:\", decoded_x1)\n",
        "    print(\"Decoded x2:\", decoded_x2)\n",
        "\n",
        "    objective_function_value = function(decoded_x1, decoded_x2)\n",
        "    print(\"Objective Function : \", objective_function_value)\n",
        "\n",
        "    fitness_value = fitness_calculation(decoded_x1, decoded_x2)\n",
        "    print(\"Fitness Value : \", fitness_value)\n",
        "\n",
        "\n",
        "    print()"
      ],
      "metadata": {
        "id": "NhlvSMYR8Emj",
        "colab": {
          "base_uri": "https://localhost:8080/",
          "height": 331
        },
        "outputId": "caa8fc6d-81b1-4a28-f002-f873e33ce02c"
      },
      "execution_count": null,
      "outputs": [
        {
          "output_type": "stream",
          "name": "stdout",
          "text": [
            "Original Chromosome: [1, 5, 5, 2, 8, 4]\n",
            "Split Chromosome A: [1, 5, 5]\n",
            "Split Chromosome B: [2, 8, 4]\n",
            "Decoded x1: -6.896896896896896\n",
            "Decoded x2: -4.314314314314314\n"
          ]
        },
        {
          "output_type": "error",
          "ename": "NameError",
          "evalue": "ignored",
          "traceback": [
            "\u001b[0;31m---------------------------------------------------------------------------\u001b[0m",
            "\u001b[0;31mNameError\u001b[0m                                 Traceback (most recent call last)",
            "\u001b[0;32m<ipython-input-7-8ad9f6077e75>\u001b[0m in \u001b[0;36m<cell line: 2>\u001b[0;34m()\u001b[0m\n\u001b[1;32m     14\u001b[0m     \u001b[0mprint\u001b[0m\u001b[0;34m(\u001b[0m\u001b[0;34m\"Decoded x2:\"\u001b[0m\u001b[0;34m,\u001b[0m \u001b[0mdecoded_x2\u001b[0m\u001b[0;34m)\u001b[0m\u001b[0;34m\u001b[0m\u001b[0;34m\u001b[0m\u001b[0m\n\u001b[1;32m     15\u001b[0m \u001b[0;34m\u001b[0m\u001b[0m\n\u001b[0;32m---> 16\u001b[0;31m     \u001b[0mobjective_function_value\u001b[0m \u001b[0;34m=\u001b[0m \u001b[0mfunction\u001b[0m\u001b[0;34m(\u001b[0m\u001b[0mdecoded_x1\u001b[0m\u001b[0;34m,\u001b[0m \u001b[0mdecoded_x2\u001b[0m\u001b[0;34m)\u001b[0m\u001b[0;34m\u001b[0m\u001b[0;34m\u001b[0m\u001b[0m\n\u001b[0m\u001b[1;32m     17\u001b[0m     \u001b[0mprint\u001b[0m\u001b[0;34m(\u001b[0m\u001b[0;34m\"Objective Function : \"\u001b[0m\u001b[0;34m,\u001b[0m \u001b[0mobjective_function_value\u001b[0m\u001b[0;34m)\u001b[0m\u001b[0;34m\u001b[0m\u001b[0;34m\u001b[0m\u001b[0m\n\u001b[1;32m     18\u001b[0m \u001b[0;34m\u001b[0m\u001b[0m\n",
            "\u001b[0;31mNameError\u001b[0m: name 'function' is not defined"
          ]
        }
      ]
    },
    {
      "cell_type": "code",
      "source": [
        "# Fungsi untuk menentukan kromosom terbaik\n",
        "def best_kromosom_selection(population):\n",
        "    min_fitness = 999\n",
        "    min_kromosom = []\n",
        "\n",
        "    for kromosom in population:\n",
        "        kromosom_a, kromosom_b = split_cromosome(kromosom)\n",
        "        x1 = decode(kromosom_a, x1_batas)\n",
        "        x2 = decode(kromosom_b, x2_batas)\n",
        "        fitness = fitness_calculation(decoded_x1, decoded_x2)\n",
        "\n",
        "        if min_fitness > fitness:\n",
        "            min_fitness = fitness\n",
        "            min_kromosom = kromosom\n",
        "\n",
        "    return min_kromosom, min_fitness, x1, x2\n",
        "\n",
        "best_population = best_kromosom_selection(population)\n",
        "\n",
        "print(\"Best kromosom : \",best_population[0])\n",
        "print(\"Best fitness  : \" ,best_population[1])\n",
        "print(\"Best decode x1: \",best_population[2])\n",
        "print(\"Best decode x2: \",best_population[3])"
      ],
      "metadata": {
        "id": "1U9xusyjyk4o"
      },
      "execution_count": null,
      "outputs": []
    },
    {
      "cell_type": "code",
      "source": [
        "# function to do the parent selection process\n",
        "def parent_roulette_selection(population, fitness,fitness_total):\n",
        "  probability = random.random()\n",
        "  index_parent = 0\n",
        "  while probability > 0:\n",
        "    probability -= fitness[index_parent]/fitness_total\n",
        "    index_parent += 1\n",
        "    if index_parent == len(population) - 1:\n",
        "      break\n",
        "\n",
        "  return population[index_parent]"
      ],
      "metadata": {
        "id": "_Y9UgKCUr7fK"
      },
      "execution_count": null,
      "outputs": []
    },
    {
      "cell_type": "code",
      "source": [
        "# crossover and breed new individuals using order crossover\n",
        "def crossover(orangtua1, orangtua2): #order crossover\n",
        "    anak1, anak2, anakan = [], [], []\n",
        "    probability_of_crossover = random.random()\n",
        "    if probability_of_crossover < 0.9:\n",
        "       anak1[:1], anak1[1:] = orangtua1[:1], orangtua2[1:]\n",
        "       anak2[:1], anak2[1:] = orangtua2[:1], orangtua1[1:]\n",
        "       anakan.append(anak1)\n",
        "       anakan.append(anak2)\n",
        "    else:\n",
        "        anakan.append(orangtua1)\n",
        "        anakan.append(orangtua2)\n",
        "    return anakan\n",
        "\n",
        "def simple_crossover(parent1, parent2):\n",
        "    crossover_point = random.randint(1, len(parent1) - 1)\n",
        "    child1 = parent1[:crossover_point] + parent2[crossover_point:]\n",
        "    child2 = parent2[:crossover_point] + parent1[crossover_point:]\n",
        "    return [child1, child2]\n",
        "\n",
        "def single_arithmetic_crossover(parent1, parent2):\n",
        "    alpha = random.random()\n",
        "    child1 = [alpha * p1 + (1 - alpha) * p2 for p1, p2 in zip(parent1, parent2)]\n",
        "    child2 = [(1 - alpha) * p1 + alpha * p2 for p1, p2 in zip(parent1, parent2)]\n",
        "    return [child1, child2]\n",
        "\n",
        "def whole_arithmetic_crossover(parent1, parent2):\n",
        "    alpha = random.random()\n",
        "    child1 = [alpha * p1 + (1 - alpha) * p2 for p1, p2 in zip(parent1, parent2)]\n",
        "    child2 = [(1 - alpha) * p1 + alpha * p2 for p1, p2 in zip(parent1, parent2)]\n",
        "    return [child1, child2]\n"
      ],
      "metadata": {
        "id": "uqu8LBc91rsi"
      },
      "execution_count": null,
      "outputs": []
    },
    {
      "cell_type": "code",
      "source": [
        "# Mutation and add new individuals to the population\n",
        "#Mutasi acak untuk representasi integer\n",
        "def mutation_acak(anak1, anak2):\n",
        "    for i in range(len(anak1)):\n",
        "        probability_of_mutation_for_anak1 = random.randint(0,9)\n",
        "        if probability_of_mutation_for_anak1 < 0.1:\n",
        "            anak1[i] = random.randint(0,9)\n",
        "\n",
        "        probability_of_mutation_for_anak2 = random.randint(0,9)\n",
        "        if probability_of_mutation_for_anak2 < 0.1:\n",
        "            anak2[i] = random.randint(0,9)\n",
        "\n",
        "    return anak1, anak2\n",
        "\n",
        "#Mutasi membalik integer untuk representasi integer\n",
        "def mutation(anak1, anak2):\n",
        "    for i in range(len(anak1)):\n",
        "      probability_of_mutation_for_anak1 = random.randint(0,9)\n",
        "      if probability_of_mutation_for_anak1 < 0.1:\n",
        "        anak1 = [9 - digit for digit in anak1]\n",
        "\n",
        "      probability_of_mutation_for_anak2 = random.randint(0,9)\n",
        "      if probability_of_mutation_for_anak2 < 0.1:\n",
        "        anak2 = [9 - digit for digit in anak2]\n",
        "\n",
        "    return anak1, anak2\n",
        "\n",
        "#Mutasi perlahan (creep) untuk representasi integer\n",
        "def mutation_creep(anak1, anak2):\n",
        "    for i in range(len(anak1)):\n",
        "      probability_of_mutation_for_anak1 = random.randint(0,9)\n",
        "      if probability_of_mutation_for_anak1 < 0.1:\n",
        "        anak1 = [9 - digit for digit in anak1]\n",
        "\n",
        "      probability_of_mutation_for_anak2 = random.randint(0,9)\n",
        "      if probability_of_mutation_for_anak2 < 0.1:\n",
        "        anak2 = [9 - digit for digit in anak2]\n",
        "\n",
        "    return anak1, anak2"
      ],
      "metadata": {
        "id": "3RBwIbrG10l9"
      },
      "execution_count": null,
      "outputs": []
    },
    {
      "cell_type": "code",
      "source": [
        "# Fungsi elitisme untuk memasukkan kromosom terbaik pada generasi sebelumnya\n",
        "def elitisme(population, best_kromosom_generation, bad_kromosom, total_fitness):\n",
        "    if  best_kromosom_generation[1] < bad_kromosom[0] and (best_kromosom_generation[0] not in population):\n",
        "        population[bad_kromosom[2]] = best_kromosom_generation[0]\n",
        "        total_fitness = (total_fitness - bad_kromosom[0]) + best_kromosom_generation[1]\n",
        "\n",
        "        print('\\nProses Elitisme')\n",
        "        print(f'Kromosom Ke-{bad_kromosom[2]+1}: {bad_kromosom[1]}, fitness: {bad_kromosom[0]}')\n",
        "        print(f'diubah menjadi {best_kromosom_generation[0]}, fitness: {best_kromosom_generation[1]}\\n')\n",
        "\n",
        "    return population, total_fitness"
      ],
      "metadata": {
        "id": "KLK6jgGjwj6e"
      },
      "execution_count": null,
      "outputs": []
    },
    {
      "cell_type": "code",
      "source": [
        "generation = 100\n",
        "population_total = 20\n",
        "kromosom_total = 6\n",
        "\n",
        "population = generate_population(population_total, kromosom_total)\n",
        "print(\"Populasi awal:\", population)\n",
        "\n",
        "best_kromosom_generation = []\n",
        "\n",
        "for genes in range(generation):\n",
        "   # Inisialisasi variabel untuk proses perhitungan algoritma genetika\n",
        "      kromosom_data, best_kromosom, bad_kromosom, fitness_data, new_population, child = [], [], [], [], [], []\n",
        "      total_fitness, count_kromosom, index = 0, -999, 0\n",
        "\n",
        "      print('\\n================================================================')\n",
        "      print('Generasi', genes+1)\n",
        "      print('=================================================================')\n",
        "      # Perulangan untuk mencari nilai phenotype dan nilai fungsi / fitness pada setiap kromosom\n",
        "      for i, kromosom in enumerate(population):\n",
        "          kromosom_a, kromosom_b = split_cromosome(kromosom)\n",
        "          x1 = decode(kromosom_a, x1_batas)\n",
        "          x2 = decode(kromosom_b, x2_batas)\n",
        "\n",
        "          fitness_value = fitness_calculation(x1, x2)\n",
        "          fitness_data.append(fitness_value)\n",
        "          total_fitness += fitness_value\n",
        "\n",
        "          # Pencarian Fitness Terbesar Dalam Suatu Generasi\n",
        "          if genes != 0 and fitness_value > count_kromosom:\n",
        "                  count_kromosom = fitness_value\n",
        "                  bad_kromosom = [fitness_value, kromosom, i]\n",
        "\n",
        "\n",
        "      # Pemilihan Kromosom Dengan Fitness Terbaik\n",
        "      best_kromosom = best_kromosom_selection(population)\n",
        "\n",
        "      print(\"Kromosom Terbaik :\", best_kromosom[0])\n",
        "      print(\"Fitness Terbaik :\", best_kromosom[1])\n",
        "\n",
        "      # Proses Elitisme untuk memasukkan kromosom terbaik pada generasi sebelumnya\n",
        "      if genes != 0:\n",
        "         most_best = sorted(best_kromosom_generation, key=lambda x: x[1], reverse=True)[0]\n",
        "         population, total_fitness = elitisme(population, most_best, bad_kromosom, total_fitness)\n",
        "\n",
        "      best_kromosom_generation.append(best_kromosom)\n",
        "\n",
        "      # Perulangan untuk melakukan seleksi orang tua, crossover dan mutasi anak untuk mendapatkan populasi generasi selanjutnya\n",
        "      if  genes != generation-1 :\n",
        "          for i in range(population_total // 2):\n",
        "              parent_1 = parent_roulette_selection(population, fitness_data, total_fitness)\n",
        "              parent_2 = parent_roulette_selection(population, fitness_data, total_fitness)\n",
        "              print(parent_1,parent_2)\n",
        "              childs = crossover(parent_1, parent_2)\n",
        "              print(childs)\n",
        "              child_1, child_2 = mutation(childs[0], childs[1])\n",
        "\n",
        "              new_population.append(child_1)\n",
        "              new_population.append(child_2)\n",
        "\n",
        "          population = new_population\n",
        "\n",
        "# Memanggil fungsi untuk menentukan kromosom terbaik pada keseluruhan generasi\n",
        "print('\\n=====================================================')\n",
        "print('Hasil Akhir Kromosom Terbaik')\n",
        "print('=====================================================')\n",
        "print('Kromosom Terbaik         = ', most_best[0])\n",
        "print('Phenotype x              = ', most_best[2])\n",
        "print('Phenotype y              = ', most_best[3])\n",
        "print('Nilai Fungsi / Fitness   = ', most_best[1])\n",
        "print('=====================================================')\n"
      ],
      "metadata": {
        "id": "DyId5rEXuWE0"
      },
      "execution_count": null,
      "outputs": []
    }
  ]
}